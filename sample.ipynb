{
 "cells": [
  {
   "cell_type": "code",
   "execution_count": 2,
   "id": "5ad4245c",
   "metadata": {
    "scrolled": false
   },
   "outputs": [
    {
     "name": "stdout",
     "output_type": "stream",
     "text": [
      "          f1        f2        f3        f4        f5        f6        f7   \n",
      "0   2.740666 -1.305257 -2.854093 -2.777767  0.730549 -0.488546 -0.457067  \\\n",
      "1   1.635624  2.624823  2.950338 -2.329877 -2.900317  2.470279 -0.182157   \n",
      "2  -2.070952 -1.166636 -1.629734  0.273500 -2.680716  0.330670  2.161124   \n",
      "3   2.972762 -0.216429 -1.149332 -1.602028  0.125751 -0.568462  2.386192   \n",
      "4   1.765723  1.189645  0.126027  0.856372 -0.425199 -1.390707 -0.611618   \n",
      "..       ...       ...       ...       ...       ...       ...       ...   \n",
      "95  1.563048 -0.990688 -0.318910  0.493314 -1.760400  0.145011 -1.137921   \n",
      "96  0.218478 -2.688219 -1.831520 -0.691952 -1.159431  0.460562  2.666662   \n",
      "97  0.769117  2.092264  0.054400  0.669957  2.398198  2.527725 -1.020459   \n",
      "98  1.070332  0.816874  0.872845 -1.559983 -1.827938  1.628939  0.089571   \n",
      "99  2.831037 -1.665498 -2.956094 -1.163110  2.343556 -2.914775 -0.574246   \n",
      "\n",
      "    Target  \n",
      "0        0  \n",
      "1        1  \n",
      "2        0  \n",
      "3        1  \n",
      "4        1  \n",
      "..     ...  \n",
      "95       0  \n",
      "96       0  \n",
      "97       1  \n",
      "98       1  \n",
      "99       0  \n",
      "\n",
      "[100 rows x 8 columns]\n"
     ]
    }
   ],
   "source": [
    "import random\n",
    "import requests\n",
    "import json\n",
    "import pandas as pd\n",
    "\n",
    "df = pd.DataFrame()\n",
    "\n",
    "inp = []\n",
    "for i in range(100):\n",
    "    row = []\n",
    "    for _ in range(7):\n",
    "        row.append(random.uniform(-3, 3))\n",
    "    inp.append(row)\n",
    "\n",
    "data = {'input': inp}\n",
    "\n",
    "headers = {'content-type': 'application/json'}\n",
    "\n",
    "response = requests.post('http://127.0.0.1:5000/predict', data=json.dumps(data), headers = headers)\n",
    "\n",
    "print(pd.DataFrame(response.json(), columns=['f1', 'f2', 'f3', 'f4', 'f5', 'f6', 'f7', 'Target']))"
   ]
  },
  {
   "cell_type": "code",
   "execution_count": null,
   "id": "cc86486a",
   "metadata": {},
   "outputs": [],
   "source": []
  }
 ],
 "metadata": {
  "kernelspec": {
   "display_name": "Python 3 (ipykernel)",
   "language": "python",
   "name": "python3"
  },
  "language_info": {
   "codemirror_mode": {
    "name": "ipython",
    "version": 3
   },
   "file_extension": ".py",
   "mimetype": "text/x-python",
   "name": "python",
   "nbconvert_exporter": "python",
   "pygments_lexer": "ipython3",
   "version": "3.10.11"
  }
 },
 "nbformat": 4,
 "nbformat_minor": 5
}
